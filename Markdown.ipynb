{
 "cells": [
  {
   "cell_type": "markdown",
   "id": "f51ebf35",
   "metadata": {},
   "source": [
    "1. [Headings](#1-Headings)\n",
    "2. [Text](#2-Text)\n",
    "3. [Line Break](#3-Line-Break)"
   ]
  },
  {
   "cell_type": "markdown",
   "id": "d1ba63a5",
   "metadata": {},
   "source": [
    "# 1-Headings\n",
    "\n",
    "## 2 Heading\n",
    "### 3 Heading\n",
    "#### 4 Heading"
   ]
  },
  {
   "cell_type": "markdown",
   "id": "b3ae55c7",
   "metadata": {},
   "source": [
    "# 2-Text"
   ]
  },
  {
   "cell_type": "markdown",
   "id": "45224c75",
   "metadata": {},
   "source": [
    "this is a sample text.\n",
    "\n",
    "---\n",
    "do you understand?"
   ]
  },
  {
   "cell_type": "markdown",
   "id": "1967bb31",
   "metadata": {},
   "source": [
    "# 3-Line Break"
   ]
  },
  {
   "cell_type": "markdown",
   "id": "f948ad40",
   "metadata": {},
   "source": [
    "***"
   ]
  },
  {
   "cell_type": "markdown",
   "id": "e72bb9fa",
   "metadata": {},
   "source": [
    "# 4- Bold and Italic"
   ]
  },
  {
   "cell_type": "markdown",
   "id": "c73bf929",
   "metadata": {},
   "source": [
    "__haziq__"
   ]
  },
  {
   "cell_type": "markdown",
   "id": "b900be5c",
   "metadata": {},
   "source": [
    "# 5-Block Of Text"
   ]
  },
  {
   "cell_type": "markdown",
   "id": "f0ee7c9a",
   "metadata": {},
   "source": [
    ">My name is Haziq.\n",
    ">\n",
    ">I study CS"
   ]
  },
  {
   "cell_type": "markdown",
   "id": "103e1f56",
   "metadata": {},
   "source": [
    "# 6-Link"
   ]
  },
  {
   "cell_type": "markdown",
   "id": "1239e4ac",
   "metadata": {},
   "source": [
    "<https://www.google.com/>\\\n",
    "Click [Here](https://www.google.com/)"
   ]
  },
  {
   "cell_type": "markdown",
   "id": "a2f2174c",
   "metadata": {},
   "source": [
    "# 7-Picture"
   ]
  },
  {
   "cell_type": "markdown",
   "id": "103bdf5d",
   "metadata": {},
   "source": [
    "![DS](ds.avif)"
   ]
  },
  {
   "cell_type": "markdown",
   "id": "56b3a25c",
   "metadata": {},
   "source": [
    "# 8-Code"
   ]
  },
  {
   "cell_type": "markdown",
   "id": "27c2078a",
   "metadata": {},
   "source": [
    "```python\n",
    "a=1\n",
    "b=2\n",
    "c=a+b\n",
    "print(c)\n",
    "```"
   ]
  },
  {
   "cell_type": "markdown",
   "id": "f60bdc7b",
   "metadata": {},
   "source": [
    "# 9-Table"
   ]
  },
  {
   "cell_type": "markdown",
   "id": "bf41430f",
   "metadata": {},
   "source": [
    "|Name| |Age| |Class|\n",
    "|:----| |:---| |:-----|\n",
    "|ali| |17| |12|\n",
    "|ahmad| |18| |12|"
   ]
  },
  {
   "cell_type": "markdown",
   "id": "8af99f6e",
   "metadata": {},
   "source": [
    "# 10-List"
   ]
  },
  {
   "cell_type": "markdown",
   "id": "c860d117",
   "metadata": {},
   "source": [
    "- Heading\n",
    "    - subheading\n",
    "        - sub-sub heading\n",
    "- table\n",
    "- list"
   ]
  },
  {
   "cell_type": "markdown",
   "id": "be86ae59",
   "metadata": {},
   "source": [
    "1. heading\n",
    "1. heading\n",
    "1. table\n"
   ]
  },
  {
   "cell_type": "markdown",
   "id": "68893d39",
   "metadata": {},
   "source": [
    "# 11-Table of Content"
   ]
  },
  {
   "cell_type": "markdown",
   "id": "bb1d9a6d",
   "metadata": {},
   "source": [
    "1. [Headings](#1-Headings)\n",
    "   \n",
    "2. [Text](#2-Text)\n",
    "3. [Line Break](#3-Line-Break)"
   ]
  }
 ],
 "metadata": {
  "kernelspec": {
   "display_name": "Python 3 (ipykernel)",
   "language": "python",
   "name": "python3"
  },
  "language_info": {
   "codemirror_mode": {
    "name": "ipython",
    "version": 3
   },
   "file_extension": ".py",
   "mimetype": "text/x-python",
   "name": "python",
   "nbconvert_exporter": "python",
   "pygments_lexer": "ipython3",
   "version": "3.9.13"
  }
 },
 "nbformat": 4,
 "nbformat_minor": 5
}
