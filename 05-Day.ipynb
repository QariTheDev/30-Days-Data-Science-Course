{
 "cells": [
  {
   "cell_type": "markdown",
   "id": "4870c460",
   "metadata": {},
   "source": [
    "# Day-5\n",
    "### Break and Continue Statement"
   ]
  },
  {
   "cell_type": "code",
   "execution_count": 1,
   "id": "dc343d5a",
   "metadata": {},
   "outputs": [
    {
     "name": "stdout",
     "output_type": "stream",
     "text": [
      "a\n"
     ]
    }
   ],
   "source": [
    "lis=['a','b','c','d']\n",
    "for x in lis:\n",
    "    if x==\"b\":\n",
    "        break\n",
    "    print(x)\n",
    "    \n",
    "    "
   ]
  },
  {
   "cell_type": "markdown",
   "id": "d53cfba9",
   "metadata": {},
   "source": [
    "### String Indexing and Methods\n",
    "#### 1. Index\n",
    "- Every String Character has a specific index \n",
    "- Index Start From 0 which first letter refer to 0, second letter refer to 1 and so on\n",
    "- we can use len() function to find the lenth\n",
    "- we can use str[index] to find a character a specific index"
   ]
  },
  {
   "cell_type": "code",
   "execution_count": 21,
   "id": "c25a4e87",
   "metadata": {},
   "outputs": [
    {
     "data": {
      "text/plain": [
       "14"
      ]
     },
     "execution_count": 21,
     "metadata": {},
     "output_type": "execute_result"
    }
   ],
   "source": [
    "str1=\"my name is ali\"\n",
    "len(str1)"
   ]
  },
  {
   "cell_type": "code",
   "execution_count": 22,
   "id": "d2a2b96c",
   "metadata": {},
   "outputs": [
    {
     "data": {
      "text/plain": [
       "'is al'"
      ]
     },
     "execution_count": 22,
     "metadata": {},
     "output_type": "execute_result"
    }
   ],
   "source": [
    "str1[-6:-1]"
   ]
  },
  {
   "cell_type": "markdown",
   "id": "57cb1d80",
   "metadata": {},
   "source": [
    "#### 2. Method"
   ]
  },
  {
   "cell_type": "code",
   "execution_count": 45,
   "id": "bc16a3bd",
   "metadata": {},
   "outputs": [
    {
     "data": {
      "text/plain": [
       "['my n', 'me is ', 'li']"
      ]
     },
     "execution_count": 45,
     "metadata": {},
     "output_type": "execute_result"
    }
   ],
   "source": [
    "str1.split(\"a\")"
   ]
  },
  {
   "cell_type": "markdown",
   "id": "877195a4",
   "metadata": {},
   "source": [
    "# Basic Data Structures"
   ]
  },
  {
   "cell_type": "markdown",
   "id": "792f311f",
   "metadata": {},
   "source": [
    "- tuple\n",
    "- list\n",
    "- dictionaries\n",
    "- sets"
   ]
  },
  {
   "cell_type": "markdown",
   "id": "56a7eb27",
   "metadata": {},
   "source": [
    "### Tuple\n",
    "- ordered Collection of Element\n",
    "- ()\n",
    "- Different types of Elements can be stored\n",
    "- immutable"
   ]
  },
  {
   "cell_type": "code",
   "execution_count": 36,
   "id": "598dc0ac",
   "metadata": {},
   "outputs": [
    {
     "data": {
      "text/plain": [
       "tuple"
      ]
     },
     "execution_count": 36,
     "metadata": {},
     "output_type": "execute_result"
    }
   ],
   "source": [
    "tup1=(1,2,\"haziq\",2.3,True)\n",
    "type(tup1)"
   ]
  },
  {
   "cell_type": "code",
   "execution_count": 32,
   "id": "e6fce8ac",
   "metadata": {},
   "outputs": [
    {
     "data": {
      "text/plain": [
       "(2, 'haziq', 2.3, True)"
      ]
     },
     "execution_count": 32,
     "metadata": {},
     "output_type": "execute_result"
    }
   ],
   "source": [
    "tup1[1:]"
   ]
  },
  {
   "cell_type": "code",
   "execution_count": 43,
   "id": "a694a456",
   "metadata": {
    "scrolled": true
   },
   "outputs": [
    {
     "ename": "TypeError",
     "evalue": "'tuple' object does not support item assignment",
     "output_type": "error",
     "traceback": [
      "\u001b[0;31m---------------------------------------------------------------------------\u001b[0m",
      "\u001b[0;31mTypeError\u001b[0m                                 Traceback (most recent call last)",
      "\u001b[0;32m/var/folders/8j/sr4z0wks75v1gx3sm7ch_ljc0000gn/T/ipykernel_23296/220908536.py\u001b[0m in \u001b[0;36m<module>\u001b[0;34m\u001b[0m\n\u001b[1;32m      4\u001b[0m \u001b[0;31m#unmutable\u001b[0m\u001b[0;34m\u001b[0m\u001b[0;34m\u001b[0m\u001b[0m\n\u001b[1;32m      5\u001b[0m \u001b[0mtup2\u001b[0m\u001b[0;34m=\u001b[0m\u001b[0;34m(\u001b[0m\u001b[0;36m3\u001b[0m\u001b[0;34m,\u001b[0m\u001b[0;36m4\u001b[0m\u001b[0;34m,\u001b[0m\u001b[0;36m5\u001b[0m\u001b[0;34m)\u001b[0m\u001b[0;34m\u001b[0m\u001b[0;34m\u001b[0m\u001b[0m\n\u001b[0;32m----> 6\u001b[0;31m \u001b[0mtup2\u001b[0m\u001b[0;34m[\u001b[0m\u001b[0;36m1\u001b[0m\u001b[0;34m]\u001b[0m\u001b[0;34m=\u001b[0m\u001b[0;36m3\u001b[0m\u001b[0;34m\u001b[0m\u001b[0;34m\u001b[0m\u001b[0m\n\u001b[0m\u001b[1;32m      7\u001b[0m \u001b[0mtup2\u001b[0m\u001b[0;34m\u001b[0m\u001b[0;34m\u001b[0m\u001b[0m\n",
      "\u001b[0;31mTypeError\u001b[0m: 'tuple' object does not support item assignment"
     ]
    }
   ],
   "source": [
    "#concatenate\n",
    "#min\n",
    "#max\n",
    "#unmutable\n",
    "tup2=(3,4,5)\n",
    "tup2[1]=3\n",
    "tup2."
   ]
  },
  {
   "cell_type": "markdown",
   "id": "252ded2f",
   "metadata": {},
   "source": [
    "### List\n",
    "- Ordered \n",
    "- [ ]\n",
    "- mutable"
   ]
  },
  {
   "cell_type": "code",
   "execution_count": 58,
   "id": "1306ee1d",
   "metadata": {},
   "outputs": [
    {
     "data": {
      "text/plain": [
       "[4, 23, 56]"
      ]
     },
     "execution_count": 58,
     "metadata": {},
     "output_type": "execute_result"
    }
   ],
   "source": [
    "list1=[2,4,6,4,7,8,99]\n",
    "list2=[23,4,56]\n",
    "list2.sort()\n",
    "list2"
   ]
  },
  {
   "cell_type": "markdown",
   "id": "c4888af5",
   "metadata": {},
   "source": [
    "### Dictionaries\n",
    "- unordered\n",
    "- key and value\n",
    "- mutable\n",
    "- {}"
   ]
  },
  {
   "cell_type": "code",
   "execution_count": 64,
   "id": "d3a7692a",
   "metadata": {},
   "outputs": [
    {
     "data": {
      "text/plain": [
       "dict_values([2, 5, 1])"
      ]
     },
     "execution_count": 64,
     "metadata": {},
     "output_type": "execute_result"
    }
   ],
   "source": [
    "dict1={\"burger\":2,\"pizza\":5,\"fries\":1}\n",
    "dict2={\"biryani\":2,\"sandwich\":1.5}\n",
    "dict1."
   ]
  },
  {
   "cell_type": "markdown",
   "id": "6f149ff1",
   "metadata": {},
   "source": [
    "### Sets\n",
    "- unordered\n",
    "- { }\n",
    "- no duplicates allowed"
   ]
  },
  {
   "cell_type": "code",
   "execution_count": 66,
   "id": "9a40e9b8",
   "metadata": {},
   "outputs": [
    {
     "data": {
      "text/plain": [
       "{2, 3, 5}"
      ]
     },
     "execution_count": 66,
     "metadata": {},
     "output_type": "execute_result"
    }
   ],
   "source": [
    "set1={2,5,3,5,3,2}\n",
    "set1."
   ]
  }
 ],
 "metadata": {
  "kernelspec": {
   "display_name": "base",
   "language": "python",
   "name": "python3"
  },
  "language_info": {
   "codemirror_mode": {
    "name": "ipython",
    "version": 3
   },
   "file_extension": ".py",
   "mimetype": "text/x-python",
   "name": "python",
   "nbconvert_exporter": "python",
   "pygments_lexer": "ipython3",
   "version": "3.9.13"
  },
  "vscode": {
   "interpreter": {
    "hash": "40d3a090f54c6569ab1632332b64b2c03c39dcf918b08424e98f38b5ae0af88f"
   }
  }
 },
 "nbformat": 4,
 "nbformat_minor": 5
}
