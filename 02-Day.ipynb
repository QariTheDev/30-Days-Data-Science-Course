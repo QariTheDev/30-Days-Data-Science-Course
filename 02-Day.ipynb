{
 "cells": [
  {
   "cell_type": "markdown",
   "id": "a46fcc7b",
   "metadata": {},
   "source": [
    "# Day 2 of DS Course\n",
    "1- Operators"
   ]
  },
  {
   "cell_type": "code",
   "execution_count": 1,
   "id": "04791601",
   "metadata": {},
   "outputs": [
    {
     "name": "stdout",
     "output_type": "stream",
     "text": [
      "8\n",
      "2\n",
      "6\n",
      "3.0\n",
      "9\n",
      "1\n"
     ]
    }
   ],
   "source": [
    "#adddition\n",
    "print(3+5)\n",
    "#substraction\n",
    "print(5-3)\n",
    "#multiplication\n",
    "print(3*2)\n",
    "#division\n",
    "print(6/2)\n",
    "#exponent\n",
    "print(3*3)\n",
    "#modolus\n",
    "print(10%3)"
   ]
  },
  {
   "cell_type": "code",
   "execution_count": 2,
   "id": "982a3a7a",
   "metadata": {},
   "outputs": [
    {
     "name": "stdout",
     "output_type": "stream",
     "text": [
      "10.0\n"
     ]
    }
   ],
   "source": [
    "print(3*5-10/2)"
   ]
  },
  {
   "cell_type": "markdown",
   "id": "5ec88db6",
   "metadata": {},
   "source": [
    "PEMDAS\n",
    "1. Paranthesis\n",
    "2. Exponent\n",
    "3. Multiplication\n",
    "4. Division\n",
    "5. Addition\n",
    "6. Substraction"
   ]
  },
  {
   "cell_type": "markdown",
   "id": "4079ced4",
   "metadata": {},
   "source": [
    "2. Strings"
   ]
  },
  {
   "cell_type": "code",
   "execution_count": 3,
   "id": "b8824fec",
   "metadata": {},
   "outputs": [
    {
     "name": "stdout",
     "output_type": "stream",
     "text": [
      "ali is a student\n",
      "ali is a student\n",
      "ali is a student\n"
     ]
    }
   ],
   "source": [
    "print('ali is a student')\n",
    "print(\"ali is a student\")\n",
    "print('''ali is a student''')"
   ]
  },
  {
   "cell_type": "code",
   "execution_count": 4,
   "id": "587d6a4d",
   "metadata": {},
   "outputs": [
    {
     "name": "stdout",
     "output_type": "stream",
     "text": [
      "ali what's up\n"
     ]
    }
   ],
   "source": [
    "print(\"ali what's up\")\n"
   ]
  },
  {
   "cell_type": "markdown",
   "id": "896f48de",
   "metadata": {},
   "source": [
    "3. Variables\n",
    "-Int\n",
    "-Float\n",
    "-Bool\n",
    "-String"
   ]
  },
  {
   "cell_type": "code",
   "execution_count": 5,
   "id": "42d85bc2",
   "metadata": {},
   "outputs": [
    {
     "name": "stdout",
     "output_type": "stream",
     "text": [
      "10\n"
     ]
    }
   ],
   "source": [
    "a=10\n",
    "print(a)"
   ]
  },
  {
   "cell_type": "markdown",
   "id": "729234c3",
   "metadata": {},
   "source": [
    "#### Rules to assign Variables\n",
    "1. Never start from a number\n",
    "2. Make it short\n",
    "3. never use space\n",
    "4. do not use keywords"
   ]
  },
  {
   "cell_type": "code",
   "execution_count": 6,
   "id": "9b08d6fb",
   "metadata": {},
   "outputs": [
    {
     "name": "stdout",
     "output_type": "stream",
     "text": [
      "Ali  is  17  years old\n"
     ]
    }
   ],
   "source": [
    "name=\"Ali\"\n",
    "age= 17\n",
    "print(name,\" is \",age,\" years old\")\n"
   ]
  },
  {
   "cell_type": "code",
   "execution_count": 7,
   "id": "a76d3c0e",
   "metadata": {},
   "outputs": [
    {
     "name": "stdout",
     "output_type": "stream",
     "text": [
      "<class 'str'>\n",
      "<class 'int'>\n",
      "<class 'int'>\n",
      "<class 'float'>\n"
     ]
    }
   ],
   "source": [
    "name=\"ali\"\n",
    "age= 17\n",
    "clas=10\n",
    "height=1.5\n",
    "print(type(name))\n",
    "print(type(age))\n",
    "print(type(clas))\n",
    "print(type(height))\n"
   ]
  },
  {
   "cell_type": "markdown",
   "id": "0c7ad521",
   "metadata": {},
   "source": [
    "4. Input"
   ]
  },
  {
   "cell_type": "code",
   "execution_count": 8,
   "id": "648a7843",
   "metadata": {},
   "outputs": [
    {
     "name": "stdout",
     "output_type": "stream",
     "text": [
      "Enter Your Name: Haziq\n",
      "Your Name is  Haziq\n"
     ]
    }
   ],
   "source": [
    "name=input(\"Enter Your Name: \")\n",
    "print(\"Your Name is \",name)"
   ]
  },
  {
   "cell_type": "code",
   "execution_count": 9,
   "id": "b8912915",
   "metadata": {},
   "outputs": [
    {
     "name": "stdout",
     "output_type": "stream",
     "text": [
      "Enter Your Name: 20\n",
      "Enter Your Age: 20\n",
      "20 is  20 years old\n"
     ]
    }
   ],
   "source": [
    "name=input(\"Enter Your Name: \")\n",
    "age=input(\"Enter Your Age: \")\n",
    "print(name,\"is \",age,\"years old\")"
   ]
  },
  {
   "cell_type": "code",
   "execution_count": 10,
   "id": "4f29baec",
   "metadata": {},
   "outputs": [
    {
     "name": "stdout",
     "output_type": "stream",
     "text": [
      "Enter Your Age:20\n",
      "<class 'str'>\n"
     ]
    }
   ],
   "source": [
    "age=input(\"Enter Your Age:\")\n",
    "print(type(age))"
   ]
  },
  {
   "cell_type": "code",
   "execution_count": 11,
   "id": "766d1f9d",
   "metadata": {},
   "outputs": [
    {
     "name": "stdout",
     "output_type": "stream",
     "text": [
      "Enter Your Age: 20\n",
      "<class 'int'>\n"
     ]
    }
   ],
   "source": [
    "age=int(input(\"Enter Your Age: \"))\n",
    "print(type(age))"
   ]
  },
  {
   "cell_type": "code",
   "execution_count": 12,
   "id": "961e0b3f",
   "metadata": {},
   "outputs": [
    {
     "name": "stdout",
     "output_type": "stream",
     "text": [
      "Enter Your Age:20\n",
      "<class 'int'>\n"
     ]
    }
   ],
   "source": [
    "age=input(\"Enter Your Age:\")\n",
    "print(type(int(age)))"
   ]
  },
  {
   "cell_type": "markdown",
   "id": "67fc243c",
   "metadata": {},
   "source": [
    "### 5. Conditional Operators\n",
    "- == equal to\n",
    "-  != not equal to\n",
    "-   greater than >\n",
    "-  < Less than\n",
    "-  >= greater than or equal to\n",
    "-  <= less than or equal to"
   ]
  },
  {
   "cell_type": "code",
   "execution_count": 8,
   "id": "1cfa784b",
   "metadata": {},
   "outputs": [
    {
     "data": {
      "text/plain": [
       "True"
      ]
     },
     "execution_count": 8,
     "metadata": {},
     "output_type": "execute_result"
    }
   ],
   "source": [
    "5==5"
   ]
  },
  {
   "cell_type": "code",
   "execution_count": 14,
   "id": "7958a9e9",
   "metadata": {},
   "outputs": [
    {
     "data": {
      "text/plain": [
       "False"
      ]
     },
     "execution_count": 14,
     "metadata": {},
     "output_type": "execute_result"
    }
   ],
   "source": [
    "5==4"
   ]
  },
  {
   "cell_type": "code",
   "execution_count": 15,
   "id": "453ee9cc",
   "metadata": {},
   "outputs": [
    {
     "data": {
      "text/plain": [
       "True"
      ]
     },
     "execution_count": 15,
     "metadata": {},
     "output_type": "execute_result"
    }
   ],
   "source": [
    "5!=4"
   ]
  },
  {
   "cell_type": "code",
   "execution_count": 16,
   "id": "928aee84",
   "metadata": {},
   "outputs": [
    {
     "data": {
      "text/plain": [
       "True"
      ]
     },
     "execution_count": 16,
     "metadata": {},
     "output_type": "execute_result"
    }
   ],
   "source": [
    "5>3"
   ]
  },
  {
   "cell_type": "code",
   "execution_count": 17,
   "id": "90cef650",
   "metadata": {},
   "outputs": [
    {
     "data": {
      "text/plain": [
       "False"
      ]
     },
     "execution_count": 17,
     "metadata": {},
     "output_type": "execute_result"
    }
   ],
   "source": [
    "5<3"
   ]
  },
  {
   "cell_type": "code",
   "execution_count": 18,
   "id": "43ddb8a7",
   "metadata": {},
   "outputs": [
    {
     "data": {
      "text/plain": [
       "False"
      ]
     },
     "execution_count": 18,
     "metadata": {},
     "output_type": "execute_result"
    }
   ],
   "source": [
    "age= 4\n",
    "age_for_school=5\n",
    "age==age_for_school\n"
   ]
  },
  {
   "cell_type": "code",
   "execution_count": 21,
   "id": "66400c4c",
   "metadata": {},
   "outputs": [
    {
     "name": "stdout",
     "output_type": "stream",
     "text": [
      "Enter Your Age: 6\n",
      "True\n"
     ]
    }
   ],
   "source": [
    "age=int(input(\"Enter Your Age: \"))\n",
    "ageforschool=5\n",
    "print(age>=ageforschool)"
   ]
  },
  {
   "cell_type": "code",
   "execution_count": 4,
   "id": "bc12cd5a",
   "metadata": {},
   "outputs": [
    {
     "name": "stdout",
     "output_type": "stream",
     "text": [
      "Enter Age of Child: 6\n",
      "Your child should go to school\n"
     ]
    }
   ],
   "source": [
    "age=int(input(\"Enter Age of Child: \"))\n",
    "age_required=5\n",
    "if age==age_required:\n",
    "    print(\"Your child can go to school\")\n",
    "elif age>age_required:\n",
    "    print(\"Your child should go to school\")\n",
    "else:\n",
    "    print(\"he cannot go to school\")"
   ]
  },
  {
   "cell_type": "code",
   "execution_count": 5,
   "id": "81632235",
   "metadata": {},
   "outputs": [
    {
     "name": "stdout",
     "output_type": "stream",
     "text": [
      "Enter Your Weight in KG:100\n",
      "Enter your height in meters:1.8\n"
     ]
    },
    {
     "data": {
      "text/plain": [
       "30.864197530864196"
      ]
     },
     "execution_count": 5,
     "metadata": {},
     "output_type": "execute_result"
    }
   ],
   "source": [
    "#bmi calclulator \n",
    "weight=float(input(\"Enter Your Weight in KG:\"))\n",
    "height=float(input(\"Enter your height in meters:\"))\n",
    "bmi=weight/height**2\n",
    "bmi"
   ]
  },
  {
   "cell_type": "code",
   "execution_count": null,
   "id": "f611e77a",
   "metadata": {},
   "outputs": [],
   "source": [
    "weight=float(input(\"Enter Your Weight in KG:\"))\n",
    "height=float(input(\"Enter your height in meters:\"))\n",
    "bmi=weight/height**2\n",
    "print(\"Your bmi is\",bmi)\n",
    "if bmi<18.5:\n",
    "    print(\"You are underweight\")\n",
    "elif bmi>18.5 and bmi<25:\n",
    "    print(\"your weight is normal\")\n",
    "else:\n",
    "    print(\"You are over weight\")"
   ]
  },
  {
   "cell_type": "code",
   "execution_count": 1,
   "id": "f8d0a65f",
   "metadata": {},
   "outputs": [
    {
     "name": "stdout",
     "output_type": "stream",
     "text": [
      "False\n"
     ]
    }
   ],
   "source": [
    "print(3<5 and 2>5)"
   ]
  },
  {
   "cell_type": "code",
   "execution_count": 2,
   "id": "29a76a85",
   "metadata": {},
   "outputs": [
    {
     "name": "stdout",
     "output_type": "stream",
     "text": [
      "True\n"
     ]
    }
   ],
   "source": [
    "print(3<5 or 2>5)"
   ]
  },
  {
   "cell_type": "code",
   "execution_count": 3,
   "id": "1d21de33",
   "metadata": {},
   "outputs": [
    {
     "name": "stdout",
     "output_type": "stream",
     "text": [
      "True\n"
     ]
    }
   ],
   "source": [
    "print(3>5 or 2<5)"
   ]
  },
  {
   "cell_type": "code",
   "execution_count": 5,
   "id": "10587ab5",
   "metadata": {},
   "outputs": [
    {
     "name": "stdout",
     "output_type": "stream",
     "text": [
      "True\n"
     ]
    }
   ],
   "source": [
    "print(3<5 and 2<5)"
   ]
  },
  {
   "cell_type": "code",
   "execution_count": 9,
   "id": "46d3f2ce",
   "metadata": {},
   "outputs": [
    {
     "name": "stdout",
     "output_type": "stream",
     "text": [
      "Enter Your Namehaider\n",
      "I do not know you\n"
     ]
    }
   ],
   "source": [
    "name1=\"ali\"\n",
    "name2=\"haziq\"\n",
    "name3=\"ahmad\"\n",
    "name=input(\"Enter Your Name\")\n",
    "if name==name1 or name==name2 or name==name3:\n",
    "    print(\"I know you\")\n",
    "else:\n",
    "    print(\"I do not know you\")"
   ]
  },
  {
   "cell_type": "code",
   "execution_count": 11,
   "id": "dfceb134",
   "metadata": {},
   "outputs": [
    {
     "name": "stdout",
     "output_type": "stream",
     "text": [
      "Coding...\n",
      "Coding...\n",
      "Coding...\n",
      "Coding...\n",
      "Coding...\n",
      "Coding...\n"
     ]
    }
   ],
   "source": [
    "def printtext():\n",
    "    text=\"Coding...\"\n",
    "    print(text)\n",
    "    print(text)\n",
    "    print(text)\n",
    "\n",
    "printtext()\n",
    "printtext()"
   ]
  },
  {
   "cell_type": "code",
   "execution_count": 14,
   "id": "ec931327",
   "metadata": {},
   "outputs": [
    {
     "name": "stdout",
     "output_type": "stream",
     "text": [
      "Enter Text To print: haziq\n",
      "haziq\n",
      "haziq\n",
      "haziq\n"
     ]
    }
   ],
   "source": [
    "def printtext(text):\n",
    "    print(text)\n",
    "    print(text)\n",
    "    print(text)\n",
    "\n",
    "text=input(\"Enter Text To print: \")\n",
    "printtext(text)"
   ]
  },
  {
   "cell_type": "code",
   "execution_count": 16,
   "id": "06e8736c",
   "metadata": {},
   "outputs": [
    {
     "name": "stdout",
     "output_type": "stream",
     "text": [
      "ali can go to school\n",
      "noor cannot go to school\n"
     ]
    }
   ],
   "source": [
    "def schoolage(name,age):\n",
    "    if age>=5:\n",
    "        print(name,\"can go to school\")\n",
    "    else:\n",
    "        print(name,\"cannot go to school\")\n",
    "\n",
    "name=\"ali\"\n",
    "age=6\n",
    "name2=\"noor\"\n",
    "age2=4\n",
    "schoolage(name,age)\n",
    "schoolage(name2,age2)"
   ]
  },
  {
   "cell_type": "code",
   "execution_count": 17,
   "id": "1860dce7",
   "metadata": {},
   "outputs": [
    {
     "name": "stdout",
     "output_type": "stream",
     "text": [
      "hello\n",
      "hello\n",
      "hello\n",
      "hello\n",
      "hello\n",
      "hello\n",
      "hello\n",
      "hello\n",
      "hello\n",
      "hello\n"
     ]
    }
   ],
   "source": [
    "for x in range(10):\n",
    "    print(\"hello\")"
   ]
  },
  {
   "cell_type": "code",
   "execution_count": null,
   "id": "a473c749",
   "metadata": {},
   "outputs": [],
   "source": []
  }
 ],
 "metadata": {
  "kernelspec": {
   "display_name": "base",
   "language": "python",
   "name": "python3"
  },
  "language_info": {
   "codemirror_mode": {
    "name": "ipython",
    "version": 3
   },
   "file_extension": ".py",
   "mimetype": "text/x-python",
   "name": "python",
   "nbconvert_exporter": "python",
   "pygments_lexer": "ipython3",
   "version": "3.9.13"
  },
  "vscode": {
   "interpreter": {
    "hash": "40d3a090f54c6569ab1632332b64b2c03c39dcf918b08424e98f38b5ae0af88f"
   }
  }
 },
 "nbformat": 4,
 "nbformat_minor": 5
}
