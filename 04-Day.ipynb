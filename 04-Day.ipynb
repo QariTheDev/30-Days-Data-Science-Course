{
 "cells": [
  {
   "cell_type": "markdown",
   "id": "bd7a74f0",
   "metadata": {},
   "source": [
    "# Functions"
   ]
  },
  {
   "cell_type": "code",
   "execution_count": 1,
   "id": "187bb013",
   "metadata": {},
   "outputs": [
    {
     "name": "stdout",
     "output_type": "stream",
     "text": [
      "ali should be at home\n",
      "ahmad should go to school\n",
      "arslan can go to school\n"
     ]
    }
   ],
   "source": [
    "def school_age(name,age):\n",
    "    if age==5:\n",
    "        print(name,\"can go to school\")\n",
    "    elif age>5:\n",
    "        print(name, \"should go to school\")\n",
    "    else:\n",
    "        print(name,\"should be at home\")\n",
    "\n",
    "name1=\"ali\"\n",
    "age1=4\n",
    "name2=\"ahmad\"\n",
    "age2=6\n",
    "name3=\"arslan\"\n",
    "age3=5\n",
    "school_age(name1,age1)\n",
    "school_age(name2,age2)\n",
    "school_age(name3,age3)"
   ]
  },
  {
   "cell_type": "markdown",
   "id": "17bb5ff8",
   "metadata": {},
   "source": [
    "Return Type Functions"
   ]
  },
  {
   "cell_type": "code",
   "execution_count": 5,
   "id": "bea959d7",
   "metadata": {},
   "outputs": [
    {
     "name": "stdout",
     "output_type": "stream",
     "text": [
      "Enter your weight:100\n",
      "Enter your height1.8\n",
      "overweight\n"
     ]
    }
   ],
   "source": [
    "def bmi_cal(weight,height):\n",
    "    bmi=weight/height**2\n",
    "    return bmi\n",
    "\n",
    "def bmi_def(bmi):\n",
    "    if bmi<18.5:\n",
    "         print(\"you are underweight\")\n",
    "    elif bmi>=18.5 and bmi<=25:\n",
    "         print(\"normal\")\n",
    "    else:\n",
    "         print(\"overweight\")\n",
    "\n",
    "weight=float(input(\"Enter your weight:\"))\n",
    "height=float(input(\"Enter your height\"))\n",
    "bmi=bmi_cal(weight,height)\n",
    "bmi_def(bmi)"
   ]
  },
  {
   "cell_type": "code",
   "execution_count": 6,
   "id": "9dfeee11",
   "metadata": {},
   "outputs": [
    {
     "name": "stdout",
     "output_type": "stream",
     "text": [
      "marks:76\n",
      "b\n"
     ]
    }
   ],
   "source": [
    "def grade(marks):\n",
    "    if marks<60:\n",
    "        print(\"f\")\n",
    "    elif marks>60 and marks<80:\n",
    "        print('b')\n",
    "    else:\n",
    "        print('a')\n",
    "\n",
    "marks=int(input(\"marks:\"))\n",
    "grade(marks)"
   ]
  },
  {
   "cell_type": "markdown",
   "id": "60a132b6",
   "metadata": {},
   "source": [
    "# Loop\n",
    "- While\n",
    "- For"
   ]
  },
  {
   "cell_type": "code",
   "execution_count": 8,
   "id": "30ff74a1",
   "metadata": {},
   "outputs": [
    {
     "name": "stdout",
     "output_type": "stream",
     "text": [
      "1\n",
      "2\n",
      "3\n",
      "4\n",
      "5\n",
      "6\n",
      "7\n",
      "8\n",
      "9\n",
      "10\n"
     ]
    }
   ],
   "source": [
    "i=1\n",
    "while i<=10:\n",
    "    print(i)\n",
    "    i+=1"
   ]
  },
  {
   "cell_type": "code",
   "execution_count": 10,
   "id": "5133b0d1",
   "metadata": {},
   "outputs": [
    {
     "name": "stdout",
     "output_type": "stream",
     "text": [
      "8\n",
      "1\n",
      "2\n",
      "3\n",
      "4\n",
      "5\n",
      "6\n",
      "7\n",
      "8\n"
     ]
    }
   ],
   "source": []
  },
  {
   "cell_type": "code",
   "execution_count": 11,
   "id": "5b6ad156",
   "metadata": {},
   "outputs": [
    {
     "name": "stdout",
     "output_type": "stream",
     "text": [
      "Enter Text you want to printcoding..\n",
      "how many times you want to print?5\n",
      "coding..\n",
      "coding..\n",
      "coding..\n",
      "coding..\n",
      "coding..\n"
     ]
    }
   ],
   "source": [
    "text=input(\"Enter Text you want to print\")\n",
    "num=int(input(\"how many times you want to print?\"))\n",
    "i=0\n",
    "while i<num:\n",
    "    print(text)\n",
    "    i+=1"
   ]
  },
  {
   "cell_type": "code",
   "execution_count": 1,
   "id": "feb4228a",
   "metadata": {},
   "outputs": [
    {
     "name": "stdout",
     "output_type": "stream",
     "text": [
      "press 1 to enter age or press 2 to end program: 1\n",
      "Age: 4\n",
      "should be at home\n",
      "press 1 to enter age or press 2 to end program: 1\n",
      "Age: 5\n",
      "can go to school\n",
      "press 1 to enter age or press 2 to end program: 2\n"
     ]
    }
   ],
   "source": [
    "def school_age(age):\n",
    "    if age==5:\n",
    "        print(\"can go to school\")\n",
    "    elif age>5:\n",
    "        print(\"should go to school\")\n",
    "    else:\n",
    "        print(\"should be at home\")\n",
    "\n",
    "num=int(input(\"press 1 to enter age or press 2 to end program: \"))\n",
    "while num!=2:\n",
    "    age=int(input(\"Age: \"))\n",
    "    school_age(age)\n",
    "    num=int(input(\"press 1 to enter age or press 2 to end program: \"))\n"
   ]
  },
  {
   "cell_type": "code",
   "execution_count": 2,
   "id": "15103c45",
   "metadata": {},
   "outputs": [
    {
     "name": "stdout",
     "output_type": "stream",
     "text": [
      "Press 1 to end to cal bmi or 2 to end: 1\n",
      "Height:1.8\n",
      "Weight:100\n",
      "30.864197530864196\n",
      "Press 1 to end to cal bmi or 2 to end: 2\n"
     ]
    }
   ],
   "source": [
    "def bmi_cal(weight,height):\n",
    "    bmi=weight/height**2\n",
    "    print(bmi)\n",
    "\n",
    "num=int(input(\"Press 1 to end to cal bmi or 2 to end: \"))\n",
    "while num!=2:\n",
    "    height=float(input(\"Height:\"))\n",
    "    weight=float(input(\"Weight:\"))\n",
    "    bmi_cal(weight,height)\n",
    "    num=int(input(\"Press 1 to end to cal bmi or 2 to end: \"))"
   ]
  },
  {
   "cell_type": "code",
   "execution_count": 5,
   "id": "a6441bb5",
   "metadata": {},
   "outputs": [
    {
     "name": "stdout",
     "output_type": "stream",
     "text": [
      "1\n",
      "2\n",
      "3\n",
      "4\n",
      "5\n",
      "6\n",
      "7\n",
      "8\n",
      "9\n",
      "10\n"
     ]
    }
   ],
   "source": [
    "# for loop\n",
    "for x in range(1,11):\n",
    "    print(x)"
   ]
  },
  {
   "cell_type": "code",
   "execution_count": 9,
   "id": "6cd54183",
   "metadata": {},
   "outputs": [
    {
     "name": "stdout",
     "output_type": "stream",
     "text": [
      "hello\n",
      "hello\n",
      "hello\n",
      "hello\n",
      "hello\n",
      "hello\n",
      "hello\n",
      "hello\n",
      "hello\n",
      "hello\n"
     ]
    }
   ],
   "source": [
    "for x in range(1,11):\n",
    "    print(\"hello\")"
   ]
  },
  {
   "cell_type": "code",
   "execution_count": 11,
   "id": "50fc5ef1",
   "metadata": {},
   "outputs": [
    {
     "name": "stdout",
     "output_type": "stream",
     "text": [
      "5\n",
      "1\n",
      "2\n",
      "3\n",
      "4\n",
      "5\n"
     ]
    }
   ],
   "source": [
    "num=int(input())\n",
    "for x in range(1,num+1):\n",
    "    print(x)"
   ]
  },
  {
   "cell_type": "code",
   "execution_count": 12,
   "id": "ea301483",
   "metadata": {},
   "outputs": [
    {
     "name": "stdout",
     "output_type": "stream",
     "text": [
      "5\n",
      "hellooooo\n",
      "hellooooo\n",
      "hellooooo\n",
      "hellooooo\n",
      "hellooooo\n"
     ]
    }
   ],
   "source": [
    "num=int(input())\n",
    "text=\"hellooooo\"\n",
    "for x in range(1,num+1):\n",
    "    print(text)"
   ]
  },
  {
   "cell_type": "code",
   "execution_count": 14,
   "id": "caf3a53e",
   "metadata": {},
   "outputs": [
    {
     "name": "stdout",
     "output_type": "stream",
     "text": [
      "10\n",
      "9\n",
      "8\n",
      "7\n",
      "6\n",
      "5\n",
      "4\n",
      "3\n",
      "2\n",
      "1\n"
     ]
    }
   ],
   "source": [
    "# reverse\n",
    "i=10\n",
    "while i>0:\n",
    "    print(i)\n",
    "    i-=1"
   ]
  },
  {
   "cell_type": "code",
   "execution_count": null,
   "id": "94078f81",
   "metadata": {},
   "outputs": [],
   "source": [
    "#for\n",
    "num=int(input())\n",
    "for x in range(num,0,-1):\n",
    "    print(x)"
   ]
  },
  {
   "cell_type": "code",
   "execution_count": 2,
   "id": "9a57f67b",
   "metadata": {},
   "outputs": [
    {
     "name": "stdout",
     "output_type": "stream",
     "text": [
      "burger\n",
      "pizza\n",
      "fries\n"
     ]
    }
   ],
   "source": [
    "food=['burger','pizza','fries']\n",
    "for x in food:\n",
    "    print(x)"
   ]
  },
  {
   "cell_type": "code",
   "execution_count": 4,
   "id": "15ef0da9",
   "metadata": {},
   "outputs": [
    {
     "name": "stdout",
     "output_type": "stream",
     "text": [
      "5\n",
      "15\n"
     ]
    }
   ],
   "source": [
    "num=int(input())\n",
    "sum=0\n",
    "for x in range(1,num+1):\n",
    "    sum=sum+x\n",
    "print(sum)"
   ]
  },
  {
   "cell_type": "code",
   "execution_count": 6,
   "id": "38b72bc3",
   "metadata": {},
   "outputs": [
    {
     "name": "stdout",
     "output_type": "stream",
     "text": [
      "10\n",
      "2\n",
      "4\n",
      "6\n",
      "8\n",
      "10\n"
     ]
    }
   ],
   "source": [
    "num=int(input())\n",
    "for x in range(1,num+1):\n",
    "    if x%2==0:\n",
    "        print(x)"
   ]
  },
  {
   "cell_type": "code",
   "execution_count": 8,
   "id": "c90a28ff",
   "metadata": {},
   "outputs": [
    {
     "name": "stdout",
     "output_type": "stream",
     "text": [
      "4\n",
      "not prime\n"
     ]
    }
   ],
   "source": [
    "num=int(input())\n",
    "check=0\n",
    "for x in range(1,num+1):\n",
    "    if num%x==0:\n",
    "        check=check+1\n",
    "\n",
    "if(check==2):\n",
    "    print(\"Prime\")\n",
    "else:\n",
    "    print(\"not prime\")"
   ]
  },
  {
   "cell_type": "code",
   "execution_count": null,
   "id": "9d2431d9",
   "metadata": {},
   "outputs": [],
   "source": []
  }
 ],
 "metadata": {
  "kernelspec": {
   "display_name": "base",
   "language": "python",
   "name": "python3"
  },
  "language_info": {
   "codemirror_mode": {
    "name": "ipython",
    "version": 3
   },
   "file_extension": ".py",
   "mimetype": "text/x-python",
   "name": "python",
   "nbconvert_exporter": "python",
   "pygments_lexer": "ipython3",
   "version": "3.9.13 (main, Aug 25 2022, 18:29:29) \n[Clang 12.0.0 ]"
  },
  "vscode": {
   "interpreter": {
    "hash": "40d3a090f54c6569ab1632332b64b2c03c39dcf918b08424e98f38b5ae0af88f"
   }
  }
 },
 "nbformat": 4,
 "nbformat_minor": 5
}
