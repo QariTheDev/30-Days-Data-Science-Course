{
 "cells": [
  {
   "cell_type": "markdown",
   "id": "0ed908b2",
   "metadata": {},
   "source": [
    "# Day 3\n",
    "1. Special Operators"
   ]
  },
  {
   "cell_type": "markdown",
   "id": "0a925690",
   "metadata": {},
   "source": [
    "- is operator\n",
    "- is not operator"
   ]
  },
  {
   "cell_type": "code",
   "execution_count": 1,
   "id": "70cd11c2",
   "metadata": {},
   "outputs": [
    {
     "name": "stdout",
     "output_type": "stream",
     "text": [
      "False\n"
     ]
    },
    {
     "name": "stderr",
     "output_type": "stream",
     "text": [
      "<>:1: SyntaxWarning: \"is\" with a literal. Did you mean \"==\"?\n",
      "<>:1: SyntaxWarning: \"is\" with a literal. Did you mean \"==\"?\n",
      "/var/folders/8j/sr4z0wks75v1gx3sm7ch_ljc0000gn/T/ipykernel_33169/2942731556.py:1: SyntaxWarning: \"is\" with a literal. Did you mean \"==\"?\n",
      "  print(5 is 6)\n"
     ]
    }
   ],
   "source": [
    "print(5 is 6)"
   ]
  },
  {
   "cell_type": "code",
   "execution_count": 2,
   "id": "19f7e9af",
   "metadata": {},
   "outputs": [
    {
     "name": "stderr",
     "output_type": "stream",
     "text": [
      "<>:1: SyntaxWarning: \"is\" with a literal. Did you mean \"==\"?\n",
      "<>:1: SyntaxWarning: \"is\" with a literal. Did you mean \"==\"?\n",
      "/var/folders/8j/sr4z0wks75v1gx3sm7ch_ljc0000gn/T/ipykernel_33169/1783323536.py:1: SyntaxWarning: \"is\" with a literal. Did you mean \"==\"?\n",
      "  5 is 5\n"
     ]
    },
    {
     "data": {
      "text/plain": [
       "True"
      ]
     },
     "execution_count": 2,
     "metadata": {},
     "output_type": "execute_result"
    }
   ],
   "source": [
    "5 is 5"
   ]
  },
  {
   "cell_type": "code",
   "execution_count": 3,
   "id": "35c5bc51",
   "metadata": {},
   "outputs": [
    {
     "name": "stderr",
     "output_type": "stream",
     "text": [
      "<>:1: SyntaxWarning: \"is not\" with a literal. Did you mean \"!=\"?\n",
      "<>:1: SyntaxWarning: \"is not\" with a literal. Did you mean \"!=\"?\n",
      "/var/folders/8j/sr4z0wks75v1gx3sm7ch_ljc0000gn/T/ipykernel_33169/2227521640.py:1: SyntaxWarning: \"is not\" with a literal. Did you mean \"!=\"?\n",
      "  5 is not 6\n"
     ]
    },
    {
     "data": {
      "text/plain": [
       "True"
      ]
     },
     "execution_count": 3,
     "metadata": {},
     "output_type": "execute_result"
    }
   ],
   "source": [
    "5 is not 6"
   ]
  },
  {
   "cell_type": "markdown",
   "id": "9aa9012c",
   "metadata": {},
   "source": [
    "## Logical Operators\n",
    "- and\n",
    "- or"
   ]
  },
  {
   "cell_type": "code",
   "execution_count": 4,
   "id": "554ac52d",
   "metadata": {},
   "outputs": [
    {
     "name": "stdout",
     "output_type": "stream",
     "text": [
      "False\n"
     ]
    }
   ],
   "source": [
    "print((5<6)and(3>5))"
   ]
  },
  {
   "cell_type": "code",
   "execution_count": 5,
   "id": "f45cd9e0",
   "metadata": {},
   "outputs": [
    {
     "name": "stdout",
     "output_type": "stream",
     "text": [
      "True\n"
     ]
    }
   ],
   "source": [
    "print((5<6)or(3>5))"
   ]
  },
  {
   "cell_type": "code",
   "execution_count": 6,
   "id": "5872639d",
   "metadata": {},
   "outputs": [
    {
     "name": "stdout",
     "output_type": "stream",
     "text": [
      "True\n"
     ]
    }
   ],
   "source": [
    "print((4==4)and(3<5))"
   ]
  },
  {
   "cell_type": "code",
   "execution_count": 7,
   "id": "ec357610",
   "metadata": {},
   "outputs": [
    {
     "name": "stdout",
     "output_type": "stream",
     "text": [
      "False\n"
     ]
    }
   ],
   "source": [
    "print((3>5)or(2<1))"
   ]
  },
  {
   "cell_type": "markdown",
   "id": "7f4b0f85",
   "metadata": {},
   "source": [
    "## if-else "
   ]
  },
  {
   "cell_type": "code",
   "execution_count": 12,
   "id": "8ba6e06d",
   "metadata": {},
   "outputs": [
    {
     "name": "stdout",
     "output_type": "stream",
     "text": [
      "Enter your child's age:6\n",
      "your child should go to school\n"
     ]
    }
   ],
   "source": [
    "age=int(input(\"Enter your child's age:\"))\n",
    "required_age=5\n",
    "#if he is eligible or not\n",
    "if age==5:\n",
    "    print(\"your child can go to school\") \n",
    "elif age>5:\n",
    "    print(\"your child should go to school\")\n",
    "else:\n",
    "    print(\"your child cannot go to school\")\n",
    "\n"
   ]
  },
  {
   "cell_type": "code",
   "execution_count": 14,
   "id": "d9555747",
   "metadata": {},
   "outputs": [
    {
     "name": "stdout",
     "output_type": "stream",
     "text": [
      "Enter your name:ahmad\n",
      "I do not Know you\n"
     ]
    }
   ],
   "source": [
    "name=input(\"Enter your name:\")\n",
    "name1=\"sahil\"\n",
    "name2=\"haziq\"\n",
    "name3=\"ali\"\n",
    "if name==name1 or name==name2 or name==name3:\n",
    "    print(\"I know you\")\n",
    "else:\n",
    "    print(\"I do not Know you\")"
   ]
  },
  {
   "cell_type": "code",
   "execution_count": 17,
   "id": "6641075b",
   "metadata": {},
   "outputs": [
    {
     "name": "stdout",
     "output_type": "stream",
     "text": [
      "Enter your weight in Kg78\n",
      "Enter your height in meters1.78\n",
      "your weight is normal\n"
     ]
    }
   ],
   "source": [
    "#bmi calculator\n",
    "mass=float(input(\"Enter your weight in Kg\"))\n",
    "height=float(input(\"Enter your height in meters\"))\n",
    "bmi=mass/height**2\n",
    "if bmi<18.5:\n",
    "    print(\"You are under weight\")\n",
    "elif bmi>18.5 and bmi<25:\n",
    "    print(\"your weight is normal\")\n",
    "else:\n",
    "    print(\"you are over weight\")"
   ]
  },
  {
   "cell_type": "code",
   "execution_count": 18,
   "id": "07119c0e",
   "metadata": {},
   "outputs": [
    {
     "name": "stdout",
     "output_type": "stream",
     "text": [
      "Enter your marks75\n",
      "B\n"
     ]
    }
   ],
   "source": [
    "marks=float(input(\"Enter your marks\"))\n",
    "if marks<60:\n",
    "    print(\"F\")\n",
    "elif marks>=60 and marks<70:\n",
    "    print(\"C\")\n",
    "elif marks>=70 and marks<80:\n",
    "    print(\"B\")\n",
    "else:\n",
    "    print(\"A\")"
   ]
  },
  {
   "cell_type": "code",
   "execution_count": 19,
   "id": "29551ea4",
   "metadata": {},
   "outputs": [
    {
     "name": "stdout",
     "output_type": "stream",
     "text": [
      "Enter a lettera\n",
      "this is vowel\n"
     ]
    }
   ],
   "source": [
    "letter=input(\"Enter a letter\")\n",
    "if letter==\"a\" or letter==\"e\" or letter==\"i\" or letter==\"o\" or letter==\"u\":\n",
    "    print(\"this is vowel\")\n",
    "else:\n",
    "    print(\"this is consonant\")"
   ]
  },
  {
   "cell_type": "code",
   "execution_count": 20,
   "id": "9cfb3d23",
   "metadata": {},
   "outputs": [
    {
     "name": "stdout",
     "output_type": "stream",
     "text": [
      "Enter a number: 3\n",
      "odd\n"
     ]
    }
   ],
   "source": [
    "x=int(input(\"Enter a number: \"))\n",
    "if x%2==0:\n",
    "    print(\"even\")\n",
    "else:\n",
    "    print(\"odd\")"
   ]
  },
  {
   "cell_type": "code",
   "execution_count": 21,
   "id": "bc4acd07",
   "metadata": {},
   "outputs": [
    {
     "name": "stdout",
     "output_type": "stream",
     "text": [
      "marks: 73\n",
      "b\n"
     ]
    }
   ],
   "source": [
    "marks=int(input(\"marks: \"))\n",
    "if marks>60:\n",
    "    if marks<70:\n",
    "        print(\"c\")\n",
    "    if marks>70 and marks<80:\n",
    "        print(\"b\")\n",
    "    if marks>80:\n",
    "        print('a')\n",
    "else:\n",
    "    print(\"f\")"
   ]
  },
  {
   "cell_type": "markdown",
   "id": "d4e9b59a",
   "metadata": {},
   "source": [
    "## Functions"
   ]
  },
  {
   "cell_type": "code",
   "execution_count": 27,
   "id": "6b64a78e",
   "metadata": {},
   "outputs": [
    {
     "name": "stdout",
     "output_type": "stream",
     "text": [
      "Coding is very hectic\n",
      "Coding is very hectic\n",
      "Coding is very hectic\n",
      "Coding is very hectic\n",
      "Coding is very hectic\n",
      "Coding is very hectic\n",
      "Coding is very hectic\n",
      "Coding is very hectic\n",
      "Coding is very hectic\n"
     ]
    }
   ],
   "source": [
    "def print_text():\n",
    "    text=\"Coding is very hectic\"\n",
    "    print(text)\n",
    "    print(text)\n",
    "    print(text)\n",
    "\n",
    "print_text()\n",
    "print_text()\n",
    "print_text()"
   ]
  },
  {
   "cell_type": "code",
   "execution_count": 2,
   "id": "112efb88",
   "metadata": {},
   "outputs": [
    {
     "name": "stdout",
     "output_type": "stream",
     "text": [
      "Enter any textddd\n",
      "ddd\n",
      "ddd\n",
      "ddd\n"
     ]
    },
    {
     "ename": "NameError",
     "evalue": "name 'text11' is not defined",
     "output_type": "error",
     "traceback": [
      "\u001b[0;31m---------------------------------------------------------------------------\u001b[0m",
      "\u001b[0;31mNameError\u001b[0m                                 Traceback (most recent call last)",
      "\u001b[0;32m/var/folders/8j/sr4z0wks75v1gx3sm7ch_ljc0000gn/T/ipykernel_30433/903290786.py\u001b[0m in \u001b[0;36m<module>\u001b[0;34m\u001b[0m\n\u001b[1;32m      7\u001b[0m \u001b[0mtext1\u001b[0m\u001b[0;34m=\u001b[0m\u001b[0;34m\"ahmad\"\u001b[0m\u001b[0;34m\u001b[0m\u001b[0;34m\u001b[0m\u001b[0m\n\u001b[1;32m      8\u001b[0m \u001b[0mprint_text\u001b[0m\u001b[0;34m(\u001b[0m\u001b[0mtext\u001b[0m\u001b[0;34m)\u001b[0m\u001b[0;34m\u001b[0m\u001b[0;34m\u001b[0m\u001b[0m\n\u001b[0;32m----> 9\u001b[0;31m \u001b[0mprint_text\u001b[0m\u001b[0;34m(\u001b[0m\u001b[0mtext11\u001b[0m\u001b[0;34m)\u001b[0m\u001b[0;34m\u001b[0m\u001b[0;34m\u001b[0m\u001b[0m\n\u001b[0m\u001b[1;32m     10\u001b[0m \u001b[0mprint_text\u001b[0m\u001b[0;34m(\u001b[0m\u001b[0;34m\"code\"\u001b[0m\u001b[0;34m)\u001b[0m\u001b[0;34m\u001b[0m\u001b[0;34m\u001b[0m\u001b[0m\n\u001b[1;32m     11\u001b[0m \u001b[0mprint_text\u001b[0m\u001b[0;34m(\u001b[0m\u001b[0;34m\"having fun\"\u001b[0m\u001b[0;34m)\u001b[0m\u001b[0;34m\u001b[0m\u001b[0;34m\u001b[0m\u001b[0m\n",
      "\u001b[0;31mNameError\u001b[0m: name 'text11' is not defined"
     ]
    }
   ],
   "source": [
    "def print_text(text):\n",
    "    print(text)\n",
    "    print(text)\n",
    "    print(text)\n",
    "\n",
    "text=input(\"Enter any text\")\n",
    "text1=\"ahmad\"\n",
    "print_text(text)\n",
    "print_text(text11)\n",
    "print_text(\"code\")\n",
    "print_text(\"having fun\")"
   ]
  },
  {
   "cell_type": "code",
   "execution_count": null,
   "id": "20bb4227",
   "metadata": {},
   "outputs": [],
   "source": [
    "print(hshdhdjej)"
   ]
  },
  {
   "cell_type": "code",
   "execution_count": null,
   "id": "d20843f6",
   "metadata": {},
   "outputs": [],
   "source": []
  }
 ],
 "metadata": {
  "kernelspec": {
   "display_name": "Python 3 (ipykernel)",
   "language": "python",
   "name": "python3"
  },
  "language_info": {
   "codemirror_mode": {
    "name": "ipython",
    "version": 3
   },
   "file_extension": ".py",
   "mimetype": "text/x-python",
   "name": "python",
   "nbconvert_exporter": "python",
   "pygments_lexer": "ipython3",
   "version": "3.9.13"
  }
 },
 "nbformat": 4,
 "nbformat_minor": 5
}
